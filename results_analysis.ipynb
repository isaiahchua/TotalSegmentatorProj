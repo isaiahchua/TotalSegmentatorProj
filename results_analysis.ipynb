{
 "cells": [
  {
   "cell_type": "code",
   "execution_count": null,
   "id": "e5f8d98b",
   "metadata": {},
   "outputs": [],
   "source": [
    "import os\n",
    "from os.path import join, basename\n",
    "import glob\n",
    "import numpy as np\n",
    "import torch\n",
    "import torch.nn as nn\n",
    "import torch.nn.functional as F\n",
    "import torchio as tio\n",
    "from torch.utils.data import DataLoader, DistributedSampler\n",
    "import yaml\n",
    "import json\n",
    "from addict import Dict\n",
    "from model import nnUnet\n",
    "from dataset import TotalSegmentatorData\n",
    "from metrics import DiceScore\n",
    "from utils import OneHot"
   ]
  },
  {
   "cell_type": "code",
   "execution_count": null,
   "id": "c887f3e9",
   "metadata": {},
   "outputs": [],
   "source": [
    "def SetupDDP(self, rank, world_size):\n",
    "    \"\"\"\n",
    "    Args:\n",
    "        rank: Unique identifier of each process\n",
    "        world_size: Total number of processes\n",
    "    \"\"\"\n",
    "    os.environ[\"MASTER_ADDR\"] = \"localhost\"\n",
    "    os.environ[\"MASTER_PORT\"] = \"12355\"\n",
    "    init_process_group(backend=\"nccl\", rank=rank, world_size=world_size)\n",
    "    return\n",
    "\n",
    "def ShutdownDDP(self):\n",
    "    destroy_process_group()\n",
    "    return"
   ]
  },
  {
   "cell_type": "code",
   "execution_count": null,
   "id": "bfc70fab",
   "metadata": {},
   "outputs": [],
   "source": [
    "cfile = \"/home/isaiah/TotalSegmentator/results/20230330/config_01.yaml\"\n",
    "clsfile = \"/home/isaiah/TotalSegmentatorProj/metadata/classes.json\"\n",
    "testsetdir = \"/home/isaiah/TotalSegmentator/preprocessed2/test/\"\n",
    "ckptfile = \"/home/isaiah/TotalSegmentator/results/20230329/nnunet_ckpt_01.pth\"\n",
    "use_ddp = False\n",
    "device = torch.device(\"cpu\")"
   ]
  },
  {
   "cell_type": "code",
   "execution_count": null,
   "id": "c175894e",
   "metadata": {},
   "outputs": [],
   "source": [
    "cfgs = Dict(yaml.load(open(cfile, \"r\"), Loader=yaml.Loader))\n",
    "with open(clsfile, \"r\") as f:\n",
    "    label_dict = Dict(json.load(f))\n",
    "testfiles = sorted(glob.glob(join(testsetdir, \"*.npz\")))\n",
    "testset = [basename(file).split(\".\")[0] for file in testfiles]"
   ]
  },
  {
   "cell_type": "code",
   "execution_count": null,
   "id": "4e5889da",
   "metadata": {},
   "outputs": [],
   "source": [
    "print(testset)"
   ]
  },
  {
   "cell_type": "code",
   "execution_count": null,
   "id": "683a3c4d",
   "metadata": {},
   "outputs": [],
   "source": [
    "ckpt = torch.load(ckptfile, map_location=device)\n",
    "modelparams = ckpt[\"model\"]"
   ]
  },
  {
   "cell_type": "code",
   "execution_count": null,
   "id": "1bb38c73",
   "metadata": {},
   "outputs": [],
   "source": [
    "all_params = [val for val in modelparams.values()]"
   ]
  },
  {
   "cell_type": "code",
   "execution_count": null,
   "id": "b0305121",
   "metadata": {},
   "outputs": [],
   "source": [
    "print(\"max min\")\n",
    "for i in range(len(all_params)):\n",
    "    print(all_params[i].max().item(), all_params[i].min().item()) "
   ]
  },
  {
   "cell_type": "code",
   "execution_count": null,
   "id": "5bec4ecb",
   "metadata": {},
   "outputs": [],
   "source": [
    "net = nnUnet(cfgs.model_params.channels, cfgs.model_params.num_classes)\n",
    "net.load_state_dict(modelparams)"
   ]
  },
  {
   "cell_type": "code",
   "execution_count": null,
   "id": "3d7d0013",
   "metadata": {},
   "outputs": [],
   "source": [
    "data = TotalSegmentatorData(device, testsetdir, cfgs.test_dataset_params)\n",
    "testloader = DataLoader(data)"
   ]
  },
  {
   "cell_type": "code",
   "execution_count": null,
   "id": "c003f252",
   "metadata": {},
   "outputs": [],
   "source": [
    "all_dice_scores = Dict()\n",
    "net.eval()\n",
    "with torch.no_grad():\n",
    "    for pat, loc, im, gt in testloader:\n",
    "        subj = tio.Subject({\n",
    "            \"image\": tio.ScalarImage(tensor=im.squeeze(1)),\n",
    "            \"seg\": tio.LabelMap(tensor=gt.squeeze(1))\n",
    "        })\n",
    "        patcher = tio.GridSampler(subj, patch_size=128, patch_overlap=64, padding_mode=None)\n",
    "        patch_scores = {}\n",
    "        for patch in patcher:\n",
    "            inp = patch[\"image\"].data.to(device).unsqueeze(0)\n",
    "            gt = patch[\"seg\"].data.to(device).unsqueeze(0)\n",
    "            loc = patch[\"location\"].data.\n",
    "            out = net(inp)\n",
    "            mask =~ torch.eq(gt, 105)\n",
    "            gt[gt == 105] = 0\n",
    "            gt_oh = OneHot(gt, 105)\n",
    "            dice = DiceScore(F.softmax(out, 1), gt_oh, mask)\n",
    "            patch_scores[patch[(dice.squeeze().tolist())\n",
    "            break\n",
    "        all_dice_scores[pat.item()] = scores\n",
    "        break"
   ]
  },
  {
   "cell_type": "code",
   "execution_count": null,
   "id": "95379538",
   "metadata": {},
   "outputs": [],
   "source": [
    "print(all_dice_scores)"
   ]
  },
  {
   "cell_type": "code",
   "execution_count": null,
   "id": "534d7f96",
   "metadata": {},
   "outputs": [],
   "source": []
  }
 ],
 "metadata": {
  "kernelspec": {
   "display_name": "Python 3 (ipykernel)",
   "language": "python",
   "name": "python3"
  },
  "language_info": {
   "codemirror_mode": {
    "name": "ipython",
    "version": 3
   },
   "file_extension": ".py",
   "mimetype": "text/x-python",
   "name": "python",
   "nbconvert_exporter": "python",
   "pygments_lexer": "ipython3",
   "version": "3.9.12"
  }
 },
 "nbformat": 4,
 "nbformat_minor": 5
}
