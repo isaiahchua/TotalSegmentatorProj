{
 "cells": [
  {
   "cell_type": "code",
   "execution_count": 1,
   "id": "73e9865e",
   "metadata": {},
   "outputs": [],
   "source": [
    "import os\n",
    "os.environ['CUDA_DEVICE_ORDER']='PCI_BUS_ID'\n",
    "#os.environ['CUDA_VISIBLE_DEVICES']='1'\n",
    "from addict import Dict\n",
    "import yaml\n",
    "from testrun import TestRun"
   ]
  },
  {
   "cell_type": "code",
   "execution_count": 2,
   "id": "57d89d55",
   "metadata": {},
   "outputs": [],
   "source": [
    "cfile = \"/home/isaiah/TotalSegmentatorProj/config/demo_config.yaml\"\n",
    "cfgs = Dict(yaml.load(open(cfile, \"r\"), Loader=yaml.Loader))"
   ]
  },
  {
   "cell_type": "code",
   "execution_count": 3,
   "id": "d2f4962f",
   "metadata": {},
   "outputs": [],
   "source": [
    "ddp_test = TestRun(cfgs)\n",
    "ddp_test.GenerateData()"
   ]
  },
  {
   "cell_type": "code",
   "execution_count": 4,
   "id": "687f0e8e",
   "metadata": {},
   "outputs": [
    {
     "name": "stdout",
     "output_type": "stream",
     "text": [
      "Pair 1: torch.Size([136, 164, 247]), torch.Size([136, 164, 247])\n",
      "Pair 2: torch.Size([252, 255, 147]), torch.Size([252, 255, 147])\n",
      "Pair 3: torch.Size([174, 287, 283]), torch.Size([174, 287, 283])\n",
      "Pair 4: torch.Size([186, 205, 113]), torch.Size([186, 205, 113])\n",
      "Pair 5: torch.Size([197, 181, 122]), torch.Size([197, 181, 122])\n",
      "Pair 6: torch.Size([205, 122, 259]), torch.Size([205, 122, 259])\n",
      "Pair 7: torch.Size([61, 162, 85]), torch.Size([61, 162, 85])\n",
      "Pair 8: torch.Size([215, 263, 169]), torch.Size([215, 263, 169])\n",
      "Pair 9: torch.Size([61, 229, 122]), torch.Size([61, 229, 122])\n",
      "Pair 10: torch.Size([173, 222, 212]), torch.Size([173, 222, 212])\n",
      "Pair 11: torch.Size([62, 215, 277]), torch.Size([62, 215, 277])\n",
      "Pair 12: torch.Size([112, 194, 241]), torch.Size([112, 194, 241])\n",
      "Pair 13: torch.Size([80, 119, 279]), torch.Size([80, 119, 279])\n",
      "Pair 14: torch.Size([200, 136, 212]), torch.Size([200, 136, 212])\n",
      "Pair 15: torch.Size([193, 174, 114]), torch.Size([193, 174, 114])\n",
      "Pair 16: torch.Size([203, 119, 191]), torch.Size([203, 119, 191])\n",
      "Pair 17: torch.Size([180, 63, 205]), torch.Size([180, 63, 205])\n",
      "Pair 18: torch.Size([142, 137, 153]), torch.Size([142, 137, 153])\n",
      "Pair 19: torch.Size([178, 106, 187]), torch.Size([178, 106, 187])\n",
      "Pair 20: torch.Size([150, 150, 295]), torch.Size([150, 150, 295])\n"
     ]
    }
   ],
   "source": [
    "for i, (inp, gt) in enumerate(zip(ddp_test.data, ddp_test.truths)):\n",
    "    print(f\"Pair {i+1}: {inp.shape}, {gt.shape}\")"
   ]
  },
  {
   "cell_type": "code",
   "execution_count": 5,
   "id": "f99422ce",
   "metadata": {},
   "outputs": [
    {
     "name": "stdout",
     "output_type": "stream",
     "text": [
      "batch: 1, shape: torch.Size([1, 1, 128, 128, 128]), dice: -0.007941591553390026\n",
      "batch: 2, shape: torch.Size([1, 1, 128, 128, 128]), dice: -0.007203179411590099\n",
      "batch: 3, shape: torch.Size([1, 1, 128, 128, 128]), dice: -0.008240810595452785\n",
      "batch: 4, shape: torch.Size([1, 1, 128, 128, 128]), dice: -0.0077970814891159534\n",
      "batch: 1, shape: torch.Size([1, 1, 64, 128, 128]), dice: -0.007916834205389023\n",
      "batch: 2, shape: torch.Size([1, 1, 128, 128, 128]), dice: -0.007571340072900057\n",
      "batch: 3, shape: torch.Size([1, 1, 128, 128, 128]), dice: -0.008275503292679787\n",
      "batch: 4, shape: torch.Size([1, 1, 128, 128, 128]), dice: -0.007726168725639582\n",
      "batch: 1, shape: torch.Size([1, 1, 64, 128, 128]), dice: -0.00623403862118721\n",
      "batch: 2, shape: torch.Size([1, 1, 128, 128, 128]), dice: -0.008020244538784027\n",
      "batch: 3, shape: torch.Size([1, 1, 128, 128, 128]), dice: -0.007659837603569031\n",
      "batch: 4, shape: torch.Size([1, 1, 128, 128, 128]), dice: -0.008086981251835823\n",
      "CPU times: user 655 ms, sys: 397 ms, total: 1.05 s\n",
      "Wall time: 1min 13s\n"
     ]
    }
   ],
   "source": [
    "%%time\n",
    "\n",
    "ddp_test.RunDDP()"
   ]
  },
  {
   "cell_type": "code",
   "execution_count": null,
   "id": "96787717",
   "metadata": {},
   "outputs": [],
   "source": []
  }
 ],
 "metadata": {
  "kernelspec": {
   "display_name": "Python 3 (ipykernel)",
   "language": "python",
   "name": "python3"
  },
  "language_info": {
   "codemirror_mode": {
    "name": "ipython",
    "version": 3
   },
   "file_extension": ".py",
   "mimetype": "text/x-python",
   "name": "python",
   "nbconvert_exporter": "python",
   "pygments_lexer": "ipython3",
   "version": "3.9.12"
  }
 },
 "nbformat": 4,
 "nbformat_minor": 5
}
