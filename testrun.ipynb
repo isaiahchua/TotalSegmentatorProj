{
 "cells": [
  {
   "cell_type": "code",
   "execution_count": 1,
   "id": "73e9865e",
   "metadata": {},
   "outputs": [],
   "source": [
    "import os\n",
    "from os.path import join\n",
    "os.environ['CUDA_DEVICE_ORDER']='PCI_BUS_ID'\n",
    "os.environ['CUDA_VISIBLE_DEVICES']='1'\n",
    "import torch\n",
    "import torch.nn as nn\n",
    "import torch.nn.functional as F\n",
    "from torch.distributed import init_process_group, destroy_process_group\n",
    "from torch.nn.parallel import DistributedDataParallel as DDP\n",
    "import torch.multiprocessing as mp\n",
    "from torch.optim import AdamW\n",
    "from torch.utils.data import DataLoader, Dataset, DistributedSampler\n",
    "from addict import Dict\n",
    "import yaml\n",
    "from model import nnUnet\n",
    "from dataset import TotalSegmentatorData\n",
    "from metrics import DiceMax\n",
    "from utils import OneHot\n",
    "from testrun import TestRun"
   ]
  },
  {
   "cell_type": "code",
   "execution_count": 2,
   "id": "57d89d55",
   "metadata": {},
   "outputs": [],
   "source": [
    "cfile = \"/home/isaiah/TotalSegmentatorProj/config/demo_config.yaml\"\n",
    "cfgs = Dict(yaml.load(open(cfile, \"r\"), Loader=yaml.Loader))"
   ]
  },
  {
   "cell_type": "code",
   "execution_count": 3,
   "id": "d2f4962f",
   "metadata": {},
   "outputs": [],
   "source": [
    "ddp_test = TestRun(cfgs)\n",
    "ddp_test.GenerateData()"
   ]
  },
  {
   "cell_type": "code",
   "execution_count": 4,
   "id": "71558d7d",
   "metadata": {},
   "outputs": [
    {
     "name": "stdout",
     "output_type": "stream",
     "text": [
      "Pair 1: torch.Size([108, 136, 278]), torch.Size([108, 136, 278])\n",
      "Pair 2: torch.Size([85, 108, 100]), torch.Size([85, 108, 100])\n",
      "Pair 3: torch.Size([290, 97, 251]), torch.Size([290, 97, 251])\n",
      "Pair 4: torch.Size([231, 187, 116]), torch.Size([231, 187, 116])\n",
      "Pair 5: torch.Size([118, 112, 184]), torch.Size([118, 112, 184])\n",
      "Pair 6: torch.Size([158, 128, 192]), torch.Size([158, 128, 192])\n",
      "Pair 7: torch.Size([223, 276, 163]), torch.Size([223, 276, 163])\n",
      "Pair 8: torch.Size([150, 150, 222]), torch.Size([150, 150, 222])\n",
      "Pair 9: torch.Size([282, 120, 124]), torch.Size([282, 120, 124])\n",
      "Pair 10: torch.Size([82, 233, 147]), torch.Size([82, 233, 147])\n",
      "Pair 11: torch.Size([221, 120, 95]), torch.Size([221, 120, 95])\n",
      "Pair 12: torch.Size([224, 81, 179]), torch.Size([224, 81, 179])\n",
      "Pair 13: torch.Size([201, 109, 218]), torch.Size([201, 109, 218])\n",
      "Pair 14: torch.Size([188, 219, 280]), torch.Size([188, 219, 280])\n",
      "Pair 15: torch.Size([89, 191, 115]), torch.Size([89, 191, 115])\n",
      "Pair 16: torch.Size([292, 244, 275]), torch.Size([292, 244, 275])\n",
      "Pair 17: torch.Size([89, 279, 150]), torch.Size([89, 279, 150])\n",
      "Pair 18: torch.Size([188, 254, 253]), torch.Size([188, 254, 253])\n",
      "Pair 19: torch.Size([77, 194, 230]), torch.Size([77, 194, 230])\n",
      "Pair 20: torch.Size([288, 144, 203]), torch.Size([288, 144, 203])\n"
     ]
    }
   ],
   "source": [
    "for i, (inp, gt) in enumerate(zip(ddp_test.data, ddp_test.truths)):\n",
    "    print(f\"Pair {i+1}: {inp.shape}, {gt.shape}\")"
   ]
  },
  {
   "cell_type": "code",
   "execution_count": 5,
   "id": "365ded39",
   "metadata": {},
   "outputs": [
    {
     "name": "stdout",
     "output_type": "stream",
     "text": [
      "shapes: torch.Size([1, 1, 320, 128, 128]), torch.Size([1, 1, 320, 128, 128])\n",
      "shapes: torch.Size([1, 1, 320, 128, 256]), torch.Size([1, 1, 320, 128, 256])\n",
      "shapes: torch.Size([1, 1, 256, 192, 128]), torch.Size([1, 1, 256, 192, 128])\n",
      "shapes: torch.Size([1, 1, 128, 128, 128]), torch.Size([1, 1, 128, 128, 128])\n",
      "shapes: torch.Size([1, 1, 128, 128, 192]), torch.Size([1, 1, 128, 128, 192])\n",
      "shapes: torch.Size([1, 1, 128, 128, 128]), torch.Size([1, 1, 128, 128, 128])\n",
      "shapes: torch.Size([1, 1, 128, 128, 128]), torch.Size([1, 1, 128, 128, 128])\n",
      "shapes: torch.Size([1, 1, 128, 320, 192]), torch.Size([1, 1, 128, 320, 192])\n",
      "shapes: torch.Size([1, 1, 128, 128, 128]), torch.Size([1, 1, 128, 128, 128])\n",
      "shapes: torch.Size([1, 1, 128, 192, 128]), torch.Size([1, 1, 128, 192, 128])\n",
      "shapes: torch.Size([1, 1, 128, 256, 256]), torch.Size([1, 1, 128, 256, 256])\n",
      "shapes: torch.Size([1, 1, 128, 128, 128]), torch.Size([1, 1, 128, 128, 128])\n",
      "shapes: torch.Size([1, 1, 128, 128, 128]), torch.Size([1, 1, 128, 128, 128])\n",
      "shapes: torch.Size([1, 1, 256, 128, 128]), torch.Size([1, 1, 256, 128, 128])\n",
      "shapes: torch.Size([1, 1, 128, 256, 192]), torch.Size([1, 1, 128, 256, 192])\n",
      "shapes: torch.Size([1, 1, 256, 128, 192]), torch.Size([1, 1, 256, 128, 192])\n",
      "shapes: torch.Size([1, 1, 128, 192, 320]), torch.Size([1, 1, 128, 192, 320])\n",
      "shapes: torch.Size([1, 1, 256, 128, 256]), torch.Size([1, 1, 256, 128, 256])\n",
      "shapes: torch.Size([1, 1, 128, 128, 128]), torch.Size([1, 1, 128, 128, 128])\n",
      "shapes: torch.Size([1, 1, 128, 128, 128]), torch.Size([1, 1, 128, 128, 128])\n"
     ]
    }
   ],
   "source": [
    "ddp_test.LoopDataset()"
   ]
  },
  {
   "cell_type": "code",
   "execution_count": null,
   "id": "f99422ce",
   "metadata": {},
   "outputs": [],
   "source": []
  }
 ],
 "metadata": {
  "kernelspec": {
   "display_name": "Python 3 (ipykernel)",
   "language": "python",
   "name": "python3"
  },
  "language_info": {
   "codemirror_mode": {
    "name": "ipython",
    "version": 3
   },
   "file_extension": ".py",
   "mimetype": "text/x-python",
   "name": "python",
   "nbconvert_exporter": "python",
   "pygments_lexer": "ipython3",
   "version": "3.9.12"
  }
 },
 "nbformat": 4,
 "nbformat_minor": 5
}
