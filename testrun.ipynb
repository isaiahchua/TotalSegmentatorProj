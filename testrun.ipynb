{
 "cells": [
  {
   "cell_type": "code",
   "execution_count": null,
   "id": "73e9865e",
   "metadata": {},
   "outputs": [],
   "source": [
    "import os\n",
    "from os.path import join\n",
    "os.environ['CUDA_DEVICE_ORDER']='PCI_BUS_ID'\n",
    "# os.environ['CUDA_VISIBLE_DEVICES']='1'\n",
    "import torch\n",
    "import torch.nn as nn\n",
    "import torch.nn.functional as F\n",
    "from torch.distributed import init_process_group, destroy_process_group\n",
    "from torch.nn.parallel import DistributedDataParallel as DDP\n",
    "import torch.multiprocessing as mp\n",
    "from torch.optim import AdamW\n",
    "from torch.utils.data import DataLoader, Dataset, DistributedSampler\n",
    "from addict import Dict\n",
    "import yaml\n",
    "from model import nnUnet\n",
    "from dataset import TotalSegmentatorData\n",
    "from metrics import DiceMax\n",
    "from utils import OneHot\n",
    "from testrun import TestRun"
   ]
  },
  {
   "cell_type": "code",
   "execution_count": null,
   "id": "57d89d55",
   "metadata": {},
   "outputs": [],
   "source": [
    "cfile = \"/home/isaiah/TotalSegmentatorProj/config/demo_config.yaml\"\n",
    "cfgs = Dict(yaml.load(open(cfile, \"r\"), Loader=yaml.Loader))"
   ]
  },
  {
   "cell_type": "code",
   "execution_count": null,
   "id": "d2f4962f",
   "metadata": {},
   "outputs": [],
   "source": [
    "ddp_test = TestRun(cfgs)\n",
    "ddp_test.GenerateData()"
   ]
  },
  {
   "cell_type": "code",
   "execution_count": null,
   "id": "365ded39",
   "metadata": {},
   "outputs": [],
   "source": [
    "ddp_test.RunDDP()"
   ]
  },
  {
   "cell_type": "code",
   "execution_count": null,
   "id": "f99422ce",
   "metadata": {},
   "outputs": [],
   "source": []
  }
 ],
 "metadata": {
  "kernelspec": {
   "display_name": "Python 3 (ipykernel)",
   "language": "python",
   "name": "python3"
  },
  "language_info": {
   "codemirror_mode": {
    "name": "ipython",
    "version": 3
   },
   "file_extension": ".py",
   "mimetype": "text/x-python",
   "name": "python",
   "nbconvert_exporter": "python",
   "pygments_lexer": "ipython3",
   "version": "3.9.12"
  }
 },
 "nbformat": 4,
 "nbformat_minor": 5
}
