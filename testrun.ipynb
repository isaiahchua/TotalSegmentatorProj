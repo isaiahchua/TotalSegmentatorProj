{
 "cells": [
  {
   "cell_type": "code",
   "execution_count": 1,
   "id": "73e9865e",
   "metadata": {},
   "outputs": [],
   "source": [
    "import os\n",
    "from os.path import join\n",
    "os.environ['CUDA_DEVICE_ORDER']='PCI_BUS_ID'\n",
    "#os.environ['CUDA_VISIBLE_DEVICES']='1'\n",
    "import torch\n",
    "import torch.nn as nn\n",
    "import torch.nn.functional as F\n",
    "from torch.distributed import init_process_group, destroy_process_group\n",
    "from torch.nn.parallel import DistributedDataParallel as DDP\n",
    "import torch.multiprocessing as mp\n",
    "from torch.optim import AdamW\n",
    "from torch.utils.data import DataLoader, Dataset, DistributedSampler\n",
    "from addict import Dict\n",
    "import yaml\n",
    "from model import nnUnet\n",
    "from dataset import TotalSegmentatorData\n",
    "from metrics import DiceMax\n",
    "from utils import OneHot\n",
    "from testrun import TestRun"
   ]
  },
  {
   "cell_type": "code",
   "execution_count": 2,
   "id": "57d89d55",
   "metadata": {},
   "outputs": [],
   "source": [
    "cfile = \"/home/isaiah/TotalSegmentatorProj/config/demo_config.yaml\"\n",
    "cfgs = Dict(yaml.load(open(cfile, \"r\"), Loader=yaml.Loader))"
   ]
  },
  {
   "cell_type": "code",
   "execution_count": 3,
   "id": "d2f4962f",
   "metadata": {},
   "outputs": [],
   "source": [
    "ddp_test = TestRun(cfgs)\n",
    "ddp_test.GenerateData()"
   ]
  },
  {
   "cell_type": "code",
   "execution_count": 4,
   "id": "687f0e8e",
   "metadata": {},
   "outputs": [
    {
     "name": "stdout",
     "output_type": "stream",
     "text": [
      "Pair 1: torch.Size([242, 216, 160]), torch.Size([242, 216, 160])\n",
      "Pair 2: torch.Size([142, 236, 279]), torch.Size([142, 236, 279])\n",
      "Pair 3: torch.Size([164, 222, 171]), torch.Size([164, 222, 171])\n",
      "Pair 4: torch.Size([298, 101, 150]), torch.Size([298, 101, 150])\n",
      "Pair 5: torch.Size([229, 91, 116]), torch.Size([229, 91, 116])\n",
      "Pair 6: torch.Size([143, 116, 137]), torch.Size([143, 116, 137])\n",
      "Pair 7: torch.Size([92, 282, 80]), torch.Size([92, 282, 80])\n",
      "Pair 8: torch.Size([254, 173, 155]), torch.Size([254, 173, 155])\n",
      "Pair 9: torch.Size([127, 65, 131]), torch.Size([127, 65, 131])\n",
      "Pair 10: torch.Size([179, 69, 168]), torch.Size([179, 69, 168])\n",
      "Pair 11: torch.Size([81, 223, 105]), torch.Size([81, 223, 105])\n",
      "Pair 12: torch.Size([142, 152, 140]), torch.Size([142, 152, 140])\n",
      "Pair 13: torch.Size([103, 152, 250]), torch.Size([103, 152, 250])\n",
      "Pair 14: torch.Size([200, 274, 266]), torch.Size([200, 274, 266])\n",
      "Pair 15: torch.Size([173, 292, 174]), torch.Size([173, 292, 174])\n",
      "Pair 16: torch.Size([102, 232, 213]), torch.Size([102, 232, 213])\n",
      "Pair 17: torch.Size([137, 233, 142]), torch.Size([137, 233, 142])\n",
      "Pair 18: torch.Size([75, 172, 180]), torch.Size([75, 172, 180])\n",
      "Pair 19: torch.Size([252, 225, 176]), torch.Size([252, 225, 176])\n",
      "Pair 20: torch.Size([187, 233, 144]), torch.Size([187, 233, 144])\n"
     ]
    }
   ],
   "source": [
    "for i, (inp, gt) in enumerate(zip(ddp_test.data, ddp_test.truths)):\n",
    "    print(f\"Pair {i+1}: {inp.shape}, {gt.shape}\")"
   ]
  },
  {
   "cell_type": "code",
   "execution_count": 5,
   "id": "f99422ce",
   "metadata": {},
   "outputs": [
    {
     "name": "stdout",
     "output_type": "stream",
     "text": [
      "batch: 1, shape: torch.Size([1, 1, 128, 128, 128]), dice: -0.0076197413727641106\n",
      "batch: 2, shape: torch.Size([1, 1, 128, 128, 128]), dice: -0.007801887113600969\n",
      "batch: 3, shape: torch.Size([1, 1, 128, 128, 128]), dice: -0.007696982938796282\n",
      "batch: 4, shape: torch.Size([1, 1, 128, 128, 128]), dice: -0.0068908738903701305\n",
      "batch: 1, shape: torch.Size([1, 1, 128, 128, 128]), dice: -0.005323310382664204\n",
      "batch: 2, shape: torch.Size([1, 1, 128, 128, 128]), dice: -0.007959277369081974\n",
      "batch: 3, shape: torch.Size([1, 1, 128, 128, 128]), dice: -0.007798184175044298\n",
      "batch: 4, shape: torch.Size([1, 1, 128, 128, 128]), dice: -0.008013795129954815\n",
      "batch: 1, shape: torch.Size([1, 1, 128, 128, 128]), dice: -0.0055930945090949535\n",
      "batch: 2, shape: torch.Size([1, 1, 128, 128, 128]), dice: -0.007866354659199715\n",
      "batch: 3, shape: torch.Size([1, 1, 128, 128, 128]), dice: -0.008184882812201977\n",
      "batch: 4, shape: torch.Size([1, 1, 128, 128, 128]), dice: -0.00641851918771863\n",
      "CPU times: user 555 ms, sys: 507 ms, total: 1.06 s\n",
      "Wall time: 1min 13s\n"
     ]
    }
   ],
   "source": [
    "%%time\n",
    "\n",
    "ddp_test.RunDDP()"
   ]
  },
  {
   "cell_type": "code",
   "execution_count": null,
   "id": "96787717",
   "metadata": {},
   "outputs": [],
   "source": []
  }
 ],
 "metadata": {
  "kernelspec": {
   "display_name": "Python 3 (ipykernel)",
   "language": "python",
   "name": "python3"
  },
  "language_info": {
   "codemirror_mode": {
    "name": "ipython",
    "version": 3
   },
   "file_extension": ".py",
   "mimetype": "text/x-python",
   "name": "python",
   "nbconvert_exporter": "python",
   "pygments_lexer": "ipython3",
   "version": "3.9.12"
  }
 },
 "nbformat": 4,
 "nbformat_minor": 5
}
