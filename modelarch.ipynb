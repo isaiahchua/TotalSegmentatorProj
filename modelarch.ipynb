{
 "cells": [
  {
   "cell_type": "code",
   "execution_count": null,
   "id": "c9a092d3",
   "metadata": {},
   "outputs": [],
   "source": [
    "import os\n",
    "from os.path import join\n",
    "os.environ['CUDA_DEVICE_ORDER']='PCI_BUS_ID'\n",
    "os.environ['CUDA_VISIBLE_DEVICES']='1'\n",
    "import numpy as np\n",
    "import torch\n",
    "import torch.nn as nn\n",
    "import torch.nn.functional as F\n",
    "from addict import Dict\n",
    "import yaml\n",
    "from model import nnUnet"
   ]
  },
  {
   "cell_type": "code",
   "execution_count": null,
   "id": "8e154942",
   "metadata": {},
   "outputs": [],
   "source": [
    "device = torch.device(\"cuda:0\")\n",
    "\n",
    "x = torch.rand((1, 1, 256, 256, 256)).to(device)\n",
    "\n",
    "num_classes = 106\n",
    "\n",
    "cfile = \"/home/isaiah/TotalSegmentatorProj/config/demo_config.yaml\"\n",
    "cfgs = Dict(yaml.load(open(cfile, \"r\"), Loader=yaml.Loader))\n",
    "model_cfgs = cfgs.model_params"
   ]
  },
  {
   "cell_type": "code",
   "execution_count": null,
   "id": "a4104919",
   "metadata": {},
   "outputs": [],
   "source": [
    "net = nnUnet(**model_cfgs).to(device)"
   ]
  },
  {
   "cell_type": "code",
   "execution_count": null,
   "id": "36b28166",
   "metadata": {},
   "outputs": [],
   "source": [
    "model_state = Dict(net.state_dict())\n",
    "no_parameters = 0\n",
    "for key, val in model_state.items():\n",
    "    print(f\"{key}: {val.shape}\")\n",
    "    no_parameters += np.prod(val.shape)\n",
    "print(no_parameters)"
   ]
  },
  {
   "cell_type": "code",
   "execution_count": null,
   "id": "3bbcdb36",
   "metadata": {},
   "outputs": [],
   "source": [
    "inp = torch.rand((1, 1, 4, 4))\n",
    "deconv1 = nn.ConvTranspose2d(1, 105, 7, 3)\n",
    "out = deconv1(inp)"
   ]
  },
  {
   "cell_type": "code",
   "execution_count": null,
   "id": "a9e2c055",
   "metadata": {},
   "outputs": [],
   "source": [
    "print(out.shape)"
   ]
  },
  {
   "cell_type": "code",
   "execution_count": null,
   "id": "83368799",
   "metadata": {},
   "outputs": [],
   "source": []
  }
 ],
 "metadata": {
  "kernelspec": {
   "display_name": "Python 3 (ipykernel)",
   "language": "python",
   "name": "python3"
  },
  "language_info": {
   "codemirror_mode": {
    "name": "ipython",
    "version": 3
   },
   "file_extension": ".py",
   "mimetype": "text/x-python",
   "name": "python",
   "nbconvert_exporter": "python",
   "pygments_lexer": "ipython3",
   "version": "3.9.12"
  }
 },
 "nbformat": 4,
 "nbformat_minor": 5
}
