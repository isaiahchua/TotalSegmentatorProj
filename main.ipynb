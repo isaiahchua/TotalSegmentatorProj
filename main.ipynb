{
 "cells": [
  {
   "cell_type": "code",
   "execution_count": 2,
   "id": "4d8fe641",
   "metadata": {},
   "outputs": [],
   "source": [
    "import os\n",
    "os.environ['CUDA_DEVICE_ORDER']='PCI_BUS_ID'\n",
    "os.environ['CUDA_VISIBLE_DEVICES']='1'\n",
    "from os.path import abspath, dirname, join, basename, isdir\n",
    "import json\n",
    "from addict import Dict\n",
    "import glob\n",
    "import yaml\n",
    "import numpy as np\n",
    "import torch\n",
    "import torch.nn as nn\n",
    "import torch.functional as F\n",
    "from torch.utils.data import DataLoader, DistributedSampler\n",
    "from torch.distributed import init_process_group, destroy_process_group\n",
    "import torch.multiprocessing as mp\n",
    "import timm\n",
    "import shutil\n",
    "import time\n",
    "from dataset import TotalSegmentatorData\n",
    "from train import Train"
   ]
  },
  {
   "cell_type": "code",
   "execution_count": 3,
   "id": "4764ff12",
   "metadata": {},
   "outputs": [],
   "source": [
    "CONFIG_FILE = \"config/demo_config.yaml\""
   ]
  },
  {
   "cell_type": "code",
   "execution_count": 6,
   "id": "96262081",
   "metadata": {},
   "outputs": [],
   "source": [
    "cfgs = Dict(yaml.load(open(CONFIG_FILE, \"r\"), Loader=yaml.Loader))\n",
    "paths = cfgs.paths\n",
    "data_cfgs = cfgs.dataset_params\n",
    "optim_cfgs = cfgs.optimizer_params\n",
    "schedule_cfgs = cfgs.scheduler_params\n",
    "model_cfgs = cfgs.model_params\n",
    "train_cfgs = cfgs.train_params\n",
    "test_cfgs = cfgs.test_params"
   ]
  },
  {
   "cell_type": "markdown",
   "id": "3cd55672",
   "metadata": {},
   "source": [
    "## Training"
   ]
  },
  {
   "cell_type": "code",
   "execution_count": 7,
   "id": "9e485792",
   "metadata": {},
   "outputs": [],
   "source": [
    "def SaveConfigFile(src, paths):\n",
    "    results_path = dirname(abspath(paths.model_ckpts_dest))\n",
    "    model_id = paths.model_ckpts_dest.split(\".\", 1)[0][-2:]\n",
    "    filename = basename(src).split(\".\", 1)[0] + \"_\" + model_id + \".yaml\"\n",
    "    cp_path = join(results_path, filename)\n",
    "\n",
    "    if not isdir(results_path):\n",
    "        os.makedirs(results_path)\n",
    "    shutil.copy(src, cp_path)\n",
    "\n",
    "def main(args):\n",
    "    if torch.cuda.is_available():\n",
    "        torch.cuda.empty_cache()\n",
    "    torch.manual_seed(42)\n",
    "    cfgs = Dict(yaml.load(open(abspath(CONFIG_FILE), \"r\"), Loader=yaml.Loader))\n",
    "    SaveConfigFile(CONFIG_FILE, cfgs.paths)\n",
    "\n",
    "    train = Train(cfgs)\n",
    "    start = time.time()\n",
    "    train.RunDDP()\n",
    "    end = time.time()\n",
    "    print(\"\\n\")\n",
    "    start_s = time.strftime(\"%Y-%m-%d %H:%M:%S\", time.localtime(start))\n",
    "    end_s = time.strftime(\"%Y-%m-%d %H:%M:%S\", time.localtime(end))\n",
    "    time_taken = end - start\n",
    "    if time_taken > 3600.:\n",
    "        divisor = 3600.\n",
    "        suffix = \"hr\"\n",
    "    else:\n",
    "        divisor = 60.\n",
    "        suffix = \"min\"\n",
    "    print(f\"Start Time: {start_s}, End Time: {end_s}, Total Time Taken: {(time_taken)/divisor:.3f} {suffix}\")"
   ]
  },
  {
   "cell_type": "code",
   "execution_count": null,
   "id": "d387a75d",
   "metadata": {},
   "outputs": [],
   "source": []
  },
  {
   "cell_type": "markdown",
   "id": "8bd8c8d3",
   "metadata": {},
   "source": [
    "## Testing"
   ]
  },
  {
   "cell_type": "code",
   "execution_count": null,
   "id": "5d4e2d65",
   "metadata": {},
   "outputs": [],
   "source": []
  }
 ],
 "metadata": {
  "kernelspec": {
   "display_name": "Python 3 (ipykernel)",
   "language": "python",
   "name": "python3"
  },
  "language_info": {
   "codemirror_mode": {
    "name": "ipython",
    "version": 3
   },
   "file_extension": ".py",
   "mimetype": "text/x-python",
   "name": "python",
   "nbconvert_exporter": "python",
   "pygments_lexer": "ipython3",
   "version": "3.9.12"
  }
 },
 "nbformat": 4,
 "nbformat_minor": 5
}
