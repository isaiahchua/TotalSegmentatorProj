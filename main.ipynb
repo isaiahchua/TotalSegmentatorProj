{
 "cells": [
  {
   "cell_type": "code",
   "execution_count": null,
   "id": "4d8fe641",
   "metadata": {},
   "outputs": [],
   "source": [
    "import os\n",
    "import json\n",
    "from addict import Dict\n",
    "import glob\n",
    "import yaml\n",
    "import numpy as np\n",
    "import torch\n",
    "import torch.nn as nn\n",
    "import torch.functional as F\n",
    "from torch.utils.data import DataLoader, DistributedSampler\n",
    "from torch.distributed import init_process_group, destroy_process_group\n",
    "import torch.multiprocessing as mp\n",
    "import timm\n",
    "from dataset import TotalSegmenatatorData"
   ]
  },
  {
   "cell_type": "code",
   "execution_count": null,
   "id": "4764ff12",
   "metadata": {},
   "outputs": [],
   "source": [
    "CONFIG_FILE = \"config/config.yaml\""
   ]
  },
  {
   "cell_type": "code",
   "execution_count": null,
   "id": "96262081",
   "metadata": {},
   "outputs": [],
   "source": [
    "cfgs = Dict(yaml.load(open(CONFIG_FILE), \"r\"), Loader=yaml.Loader)\n",
    "paths = cfgs.paths\n",
    "md_cfgs = cfgs.metadata_params\n",
    "data_cfgs = cfgs.dataset_params\n",
    "optim_cfgs = cfgs.optimizer_params\n",
    "schedule_cfgs = cfgs.scheduler_params\n",
    "model_cfgs = cfgs.model_params\n",
    "train_cfgs = train_params\n",
    "test_cfgs = test_params"
   ]
  },
  {
   "cell_type": "markdown",
   "id": "3cd55672",
   "metadata": {},
   "source": [
    "## Training"
   ]
  },
  {
   "cell_type": "code",
   "execution_count": null,
   "id": "9e485792",
   "metadata": {},
   "outputs": [],
   "source": []
  },
  {
   "cell_type": "markdown",
   "id": "8bd8c8d3",
   "metadata": {},
   "source": [
    "## Testing"
   ]
  },
  {
   "cell_type": "code",
   "execution_count": null,
   "id": "5d4e2d65",
   "metadata": {},
   "outputs": [],
   "source": []
  }
 ],
 "metadata": {
  "kernelspec": {
   "display_name": "Python 3 (ipykernel)",
   "language": "python",
   "name": "python3"
  },
  "language_info": {
   "codemirror_mode": {
    "name": "ipython",
    "version": 3
   },
   "file_extension": ".py",
   "mimetype": "text/x-python",
   "name": "python",
   "nbconvert_exporter": "python",
   "pygments_lexer": "ipython3",
   "version": "3.9.12"
  }
 },
 "nbformat": 4,
 "nbformat_minor": 5
}
