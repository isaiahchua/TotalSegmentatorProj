{
 "cells": [
  {
   "cell_type": "code",
   "execution_count": null,
   "id": "e5f8d98b",
   "metadata": {},
   "outputs": [],
   "source": [
    "import os\n",
    "from os.path import join, basename\n",
    "import glob\n",
    "import numpy as np\n",
    "import torch\n",
    "import torch.nn as nn\n",
    "import torch.nn.functional as F\n",
    "import torchio as tio\n",
    "from torch.utils.data import DataLoader, DistributedSampler\n",
    "import yaml\n",
    "import json\n",
    "from addict import Dict\n",
    "from model import nnUnet\n",
    "from dataset import TotalSegmentatorData\n",
    "from metrics import DiceScore\n",
    "from utils import OneHot, RunModelOnPatches\n",
    "import matplotlib.pyplot as plt"
   ]
  },
  {
   "cell_type": "code",
   "execution_count": null,
   "id": "c887f3e9",
   "metadata": {},
   "outputs": [],
   "source": [
    "def SetupDDP(self, rank, world_size):\n",
    "    \"\"\"\n",
    "    Args:\n",
    "        rank: Unique identifier of each process\n",
    "        world_size: Total number of processes\n",
    "    \"\"\"\n",
    "    os.environ[\"MASTER_ADDR\"] = \"localhost\"\n",
    "    os.environ[\"MASTER_PORT\"] = \"12355\"\n",
    "    init_process_group(backend=\"nccl\", rank=rank, world_size=world_size)\n",
    "    return\n",
    "\n",
    "def ShutdownDDP(self):\n",
    "    destroy_process_group()\n",
    "    return"
   ]
  },
  {
   "cell_type": "code",
   "execution_count": null,
   "id": "bfc70fab",
   "metadata": {},
   "outputs": [],
   "source": [
    "cfile = \"/home/isaiah/TotalSegmentator/results/20230330/config_01.yaml\"\n",
    "clsfile = \"/home/isaiah/TotalSegmentatorProj/metadata/classes.json\"\n",
    "testsetdir = \"/home/isaiah/TotalSegmentator/preprocessed2/val/\"\n",
    "ckptfile = \"/home/isaiah/TotalSegmentator/results/20230330/nnunet_ckpt_01.pth\"\n",
    "use_ddp = False\n",
    "device = torch.device(\"cuda:0\")"
   ]
  },
  {
   "cell_type": "code",
   "execution_count": null,
   "id": "c175894e",
   "metadata": {},
   "outputs": [],
   "source": [
    "cfgs = Dict(yaml.load(open(cfile, \"r\"), Loader=yaml.Loader))\n",
    "with open(clsfile, \"r\") as f:\n",
    "    label_dict = Dict(json.load(f))\n",
    "testfiles = sorted(glob.glob(join(testsetdir, \"*.npz\")))\n",
    "testset = [basename(file).split(\".\")[0] for file in testfiles]"
   ]
  },
  {
   "cell_type": "code",
   "execution_count": null,
   "id": "4e5889da",
   "metadata": {},
   "outputs": [],
   "source": [
    "print(testset)"
   ]
  },
  {
   "cell_type": "code",
   "execution_count": null,
   "id": "683a3c4d",
   "metadata": {},
   "outputs": [],
   "source": [
    "ckpt = torch.load(ckptfile, map_location=device)\n",
    "modelparams = ckpt[\"model\"]"
   ]
  },
  {
   "cell_type": "code",
   "execution_count": null,
   "id": "1bb38c73",
   "metadata": {},
   "outputs": [],
   "source": [
    "all_params = [val for val in modelparams.values()]"
   ]
  },
  {
   "cell_type": "code",
   "execution_count": null,
   "id": "b0305121",
   "metadata": {},
   "outputs": [],
   "source": [
    "print(\"max min\")\n",
    "for i in range(len(all_params)):\n",
    "    print(all_params[i].max().item(), all_params[i].min().item()) "
   ]
  },
  {
   "cell_type": "code",
   "execution_count": null,
   "id": "5bec4ecb",
   "metadata": {},
   "outputs": [],
   "source": [
    "net = nnUnet(cfgs.model_params.channels, cfgs.model_params.num_classes).to(device)\n",
    "net.load_state_dict(modelparams)"
   ]
  },
  {
   "cell_type": "code",
   "execution_count": null,
   "id": "3d7d0013",
   "metadata": {},
   "outputs": [],
   "source": [
    "data = TotalSegmentatorData(device, testsetdir, cfgs.test_dataset_params)\n",
    "testloader = DataLoader(data)"
   ]
  },
  {
   "cell_type": "code",
   "execution_count": null,
   "id": "c003f252",
   "metadata": {},
   "outputs": [],
   "source": [
    "all_dice_scores = Dict()\n",
    "net.eval()\n",
    "with torch.no_grad():\n",
    "    for pat, loc, im, gt in testloader:\n",
    "        print(pat)\n",
    "        print(im.shape)\n",
    "        if pat < 1:\n",
    "            continue\n",
    "        lbl_indices = torch.unique(gt.to(torch.int64)).tolist()\n",
    "        labels = [label_dict[str(i)] for i in lbl_indices]\n",
    "        logits = net(im.to(device))\n",
    "        #logits = RunModelOnPatches(net, im, 105, 128, 128, device)\n",
    "        #mask =~ torch.eq(gt, 105)\n",
    "        #gt[gt == 105] = 0\n",
    "        #gt_oh = OneHot(gt, 105)\n",
    "        preds = logits.argmax(1)\n",
    "        break"
   ]
  },
  {
   "cell_type": "code",
   "execution_count": null,
   "id": "2dcf16f6",
   "metadata": {},
   "outputs": [],
   "source": [
    "lbl_indices = torch.unique(preds).tolist()\n",
    "pred_labels = [label_dict[str(i)] for i in lbl_indices]"
   ]
  },
  {
   "cell_type": "code",
   "execution_count": null,
   "id": "d04d18e7",
   "metadata": {},
   "outputs": [],
   "source": [
    "print(logits.dtype)"
   ]
  },
  {
   "cell_type": "code",
   "execution_count": null,
   "id": "fde87dc8",
   "metadata": {},
   "outputs": [],
   "source": [
    "print(pred_labels)"
   ]
  },
  {
   "cell_type": "code",
   "execution_count": null,
   "id": "cfc8ef7d",
   "metadata": {},
   "outputs": [],
   "source": [
    "print(labels, end=\"\\n\\n\")"
   ]
  },
  {
   "cell_type": "code",
   "execution_count": null,
   "id": "4ced2ab0",
   "metadata": {},
   "outputs": [],
   "source": [
    "fig, axs = plt.subplots(4, 4, figsize=(12, 12))\n",
    "for i in range(4):\n",
    "    for j in range(4):\n",
    "        axs[i, j].imshow(im.squeeze()[:, :, i*j+j*8], cmap=\"bone\")\n",
    "plt.show()"
   ]
  },
  {
   "cell_type": "code",
   "execution_count": null,
   "id": "91e67a43",
   "metadata": {},
   "outputs": [],
   "source": [
    "fig, axs = plt.subplots(4, 4, figsize=(12, 12))\n",
    "for i in range(4):\n",
    "    for j in range(4):\n",
    "        axs[i, j].imshow(preds.cpu()[0, :, :, i*j+j*8], cmap=\"jet\")\n",
    "plt.show()"
   ]
  },
  {
   "cell_type": "code",
   "execution_count": null,
   "id": "d6086c9f",
   "metadata": {},
   "outputs": [],
   "source": [
    "fig, axs = plt.subplots(4, 4, figsize=(12, 12))\n",
    "for i in range(4):\n",
    "    for j in range(4):\n",
    "        axs[i, j].imshow(gt.squeeze()[:, :, i*j+j*8], cmap=\"jet\")\n",
    "plt.show()"
   ]
  },
  {
   "cell_type": "code",
   "execution_count": null,
   "id": "15fcecda",
   "metadata": {},
   "outputs": [],
   "source": [
    "image_file = \"/home/dataset/TotalSegmentor/Totalsegmentator_dataset/s0021/ct.nii.gz\""
   ]
  },
  {
   "cell_type": "code",
   "execution_count": null,
   "id": "4666f4e6",
   "metadata": {},
   "outputs": [],
   "source": [
    "import nibabel as nib\n",
    "im = nib.load(image_file)\n",
    "arr = im.get_fdata()\n",
    "print(type(arr))\n",
    "print(arr.shape)"
   ]
  },
  {
   "cell_type": "code",
   "execution_count": null,
   "id": "34be4e7e",
   "metadata": {},
   "outputs": [],
   "source": [
    "sh = np.asarray(arr.shape)\n",
    "grid_spacing = (np.asarray((185, 185, 218))* np.array((1., 1., 1.))) / (np.array((9, 9, 9)) - 2)\n",
    "print(grid_spacing / 2)"
   ]
  },
  {
   "cell_type": "code",
   "execution_count": null,
   "id": "d2c1b8ae",
   "metadata": {},
   "outputs": [],
   "source": [
    "fig, axs = plt.subplots(7, 4, figsize=(12, 20))\n",
    "for i in range(7):\n",
    "    for j in range(4):\n",
    "        axs[i, j].imshow(arr.squeeze()[:, :, i*j+j*8], cmap=\"bone\")\n",
    "plt.show()"
   ]
  },
  {
   "cell_type": "code",
   "execution_count": null,
   "id": "062a7d76",
   "metadata": {},
   "outputs": [],
   "source": []
  }
 ],
 "metadata": {
  "kernelspec": {
   "display_name": "Python 3 (ipykernel)",
   "language": "python",
   "name": "python3"
  },
  "language_info": {
   "codemirror_mode": {
    "name": "ipython",
    "version": 3
   },
   "file_extension": ".py",
   "mimetype": "text/x-python",
   "name": "python",
   "nbconvert_exporter": "python",
   "pygments_lexer": "ipython3",
   "version": "3.9.12"
  }
 },
 "nbformat": 4,
 "nbformat_minor": 5
}
