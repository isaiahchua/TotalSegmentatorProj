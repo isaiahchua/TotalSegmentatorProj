{
 "cells": [
  {
   "cell_type": "code",
   "execution_count": 16,
   "id": "b0e0fe61",
   "metadata": {},
   "outputs": [],
   "source": [
    "import os\n",
    "os.environ['CUDA_DEVICE_ORDER']='PCI_BUS_ID'\n",
    "os.environ['CUDA_VISIBLE_DEVICES']='1'\n",
    "import torch\n",
    "import torch.nn as nn\n",
    "import torch.nn.functional as F\n",
    "from model import nnUnet\n",
    "from addict import Dict"
   ]
  },
  {
   "cell_type": "code",
   "execution_count": 17,
   "id": "ee0396b5",
   "metadata": {},
   "outputs": [],
   "source": [
    "device = torch.device(\"cpu\")\n",
    "model_cfgs = {\n",
    "    \"channels\": [1, 32, 64, 128, 256, 320],\n",
    "    \"num_classes\": 105,\n",
    "}\n",
    "x = torch.rand((1, 1, 128, 128, 128))"
   ]
  },
  {
   "cell_type": "code",
   "execution_count": 18,
   "id": "b1f5be1e",
   "metadata": {},
   "outputs": [],
   "source": [
    "net = nnUnet(**model_cfgs).to(device)"
   ]
  },
  {
   "cell_type": "code",
   "execution_count": 19,
   "id": "8705b793",
   "metadata": {},
   "outputs": [
    {
     "name": "stdout",
     "output_type": "stream",
     "text": [
      "encoder.in_layer.conv1.weight: torch.Size([32, 1, 3, 3, 3])\n",
      "encoder.in_layer.conv1.bias: torch.Size([32])\n",
      "encoder.in_layer.conv2.weight: torch.Size([32, 32, 3, 3, 3])\n",
      "encoder.in_layer.conv2.bias: torch.Size([32])\n",
      "encoder.in_layer.norm.weight: torch.Size([32])\n",
      "encoder.in_layer.norm.bias: torch.Size([32])\n",
      "encoder.down1.conv1.weight: torch.Size([32, 32, 2, 2, 2])\n",
      "encoder.down1.conv1.bias: torch.Size([32])\n",
      "encoder.down1.conv2.weight: torch.Size([64, 32, 3, 3, 3])\n",
      "encoder.down1.conv2.bias: torch.Size([64])\n",
      "encoder.down1.norm1.weight: torch.Size([32])\n",
      "encoder.down1.norm1.bias: torch.Size([32])\n",
      "encoder.down1.norm2.weight: torch.Size([64])\n",
      "encoder.down1.norm2.bias: torch.Size([64])\n",
      "encoder.down2.conv1.weight: torch.Size([64, 64, 2, 2, 2])\n",
      "encoder.down2.conv1.bias: torch.Size([64])\n",
      "encoder.down2.conv2.weight: torch.Size([128, 64, 3, 3, 3])\n",
      "encoder.down2.conv2.bias: torch.Size([128])\n",
      "encoder.down2.norm1.weight: torch.Size([64])\n",
      "encoder.down2.norm1.bias: torch.Size([64])\n",
      "encoder.down2.norm2.weight: torch.Size([128])\n",
      "encoder.down2.norm2.bias: torch.Size([128])\n",
      "encoder.down3.conv1.weight: torch.Size([128, 128, 2, 2, 2])\n",
      "encoder.down3.conv1.bias: torch.Size([128])\n",
      "encoder.down3.conv2.weight: torch.Size([256, 128, 3, 3, 3])\n",
      "encoder.down3.conv2.bias: torch.Size([256])\n",
      "encoder.down3.norm1.weight: torch.Size([128])\n",
      "encoder.down3.norm1.bias: torch.Size([128])\n",
      "encoder.down3.norm2.weight: torch.Size([256])\n",
      "encoder.down3.norm2.bias: torch.Size([256])\n",
      "encoder.down4.conv1.weight: torch.Size([256, 256, 2, 2, 2])\n",
      "encoder.down4.conv1.bias: torch.Size([256])\n",
      "encoder.down4.conv2.weight: torch.Size([320, 256, 3, 3, 3])\n",
      "encoder.down4.conv2.bias: torch.Size([320])\n",
      "encoder.down4.norm1.weight: torch.Size([256])\n",
      "encoder.down4.norm1.bias: torch.Size([256])\n",
      "encoder.down4.norm2.weight: torch.Size([320])\n",
      "encoder.down4.norm2.bias: torch.Size([320])\n",
      "encoder.bot_layer.conv1.weight: torch.Size([320, 320, 2, 2, 2])\n",
      "encoder.bot_layer.conv1.bias: torch.Size([320])\n",
      "encoder.bot_layer.conv2.weight: torch.Size([320, 320, 3, 3, 3])\n",
      "encoder.bot_layer.conv2.bias: torch.Size([320])\n",
      "encoder.bot_layer.norm.weight: torch.Size([320])\n",
      "encoder.bot_layer.norm.bias: torch.Size([320])\n",
      "decoder.up1.deconv.weight: torch.Size([320, 320, 2, 2, 2])\n",
      "decoder.up1.deconv.bias: torch.Size([320])\n",
      "decoder.up1.conv1.weight: torch.Size([320, 640, 3, 3, 3])\n",
      "decoder.up1.conv1.bias: torch.Size([320])\n",
      "decoder.up1.conv2.weight: torch.Size([256, 320, 3, 3, 3])\n",
      "decoder.up1.conv2.bias: torch.Size([256])\n",
      "decoder.up1.norm1.weight: torch.Size([320])\n",
      "decoder.up1.norm1.bias: torch.Size([320])\n",
      "decoder.up1.norm2.weight: torch.Size([256])\n",
      "decoder.up1.norm2.bias: torch.Size([256])\n",
      "decoder.up2.deconv.weight: torch.Size([256, 256, 2, 2, 2])\n",
      "decoder.up2.deconv.bias: torch.Size([256])\n",
      "decoder.up2.conv1.weight: torch.Size([256, 512, 3, 3, 3])\n",
      "decoder.up2.conv1.bias: torch.Size([256])\n",
      "decoder.up2.conv2.weight: torch.Size([128, 256, 3, 3, 3])\n",
      "decoder.up2.conv2.bias: torch.Size([128])\n",
      "decoder.up2.norm1.weight: torch.Size([256])\n",
      "decoder.up2.norm1.bias: torch.Size([256])\n",
      "decoder.up2.norm2.weight: torch.Size([128])\n",
      "decoder.up2.norm2.bias: torch.Size([128])\n",
      "decoder.up3.deconv.weight: torch.Size([128, 128, 2, 2, 2])\n",
      "decoder.up3.deconv.bias: torch.Size([128])\n",
      "decoder.up3.conv1.weight: torch.Size([128, 256, 3, 3, 3])\n",
      "decoder.up3.conv1.bias: torch.Size([128])\n",
      "decoder.up3.conv2.weight: torch.Size([64, 128, 3, 3, 3])\n",
      "decoder.up3.conv2.bias: torch.Size([64])\n",
      "decoder.up3.norm1.weight: torch.Size([128])\n",
      "decoder.up3.norm1.bias: torch.Size([128])\n",
      "decoder.up3.norm2.weight: torch.Size([64])\n",
      "decoder.up3.norm2.bias: torch.Size([64])\n",
      "decoder.up4.deconv.weight: torch.Size([64, 64, 2, 2, 2])\n",
      "decoder.up4.deconv.bias: torch.Size([64])\n",
      "decoder.up4.conv1.weight: torch.Size([64, 128, 3, 3, 3])\n",
      "decoder.up4.conv1.bias: torch.Size([64])\n",
      "decoder.up4.conv2.weight: torch.Size([32, 64, 3, 3, 3])\n",
      "decoder.up4.conv2.bias: torch.Size([32])\n",
      "decoder.up4.norm1.weight: torch.Size([64])\n",
      "decoder.up4.norm1.bias: torch.Size([64])\n",
      "decoder.up4.norm2.weight: torch.Size([32])\n",
      "decoder.up4.norm2.bias: torch.Size([32])\n",
      "decoder.out_layer.deconv.weight: torch.Size([32, 32, 2, 2, 2])\n",
      "decoder.out_layer.deconv.bias: torch.Size([32])\n",
      "decoder.out_layer.conv1.weight: torch.Size([32, 64, 3, 3, 3])\n",
      "decoder.out_layer.conv1.bias: torch.Size([32])\n",
      "decoder.out_layer.conv2.weight: torch.Size([1, 32, 3, 3, 3])\n",
      "decoder.out_layer.conv2.bias: torch.Size([1])\n",
      "decoder.out_layer.conv3.weight: torch.Size([105, 1, 1, 1, 1])\n",
      "decoder.out_layer.conv3.bias: torch.Size([105])\n",
      "decoder.out_layer.norm1.weight: torch.Size([32])\n",
      "decoder.out_layer.norm1.bias: torch.Size([32])\n",
      "decoder.out_layer.norm2.weight: torch.Size([1])\n",
      "decoder.out_layer.norm2.bias: torch.Size([1])\n"
     ]
    }
   ],
   "source": [
    "model_state = Dict(net.state_dict())\n",
    "for key, val in model_state.items():\n",
    "    print(f\"{key}: {val.shape}\")"
   ]
  },
  {
   "cell_type": "code",
   "execution_count": 20,
   "id": "98289ad0",
   "metadata": {},
   "outputs": [
    {
     "name": "stdout",
     "output_type": "stream",
     "text": [
      "torch.Size([1, 32, 128, 128, 128])\n",
      "torch.Size([1, 64, 64, 64, 64])\n",
      "torch.Size([1, 128, 32, 32, 32])\n",
      "torch.Size([1, 256, 16, 16, 16])\n",
      "torch.Size([1, 320, 8, 8, 8])\n",
      "torch.Size([1, 320, 4, 4, 4])\n",
      "torch.Size([1, 256, 8, 8, 8])\n",
      "torch.Size([1, 128, 16, 16, 16])\n",
      "torch.Size([1, 64, 32, 32, 32])\n",
      "torch.Size([1, 32, 64, 64, 64])\n",
      "torch.Size([1, 105, 128, 128, 128])\n"
     ]
    }
   ],
   "source": [
    "y = net(x)"
   ]
  },
  {
   "cell_type": "code",
   "execution_count": 23,
   "id": "112e4780",
   "metadata": {},
   "outputs": [
    {
     "data": {
      "text/plain": [
       "2"
      ]
     },
     "execution_count": 23,
     "metadata": {},
     "output_type": "execute_result"
    }
   ],
   "source": [
    "test_list = [0, 1, 2, 3, 4]\n",
    "other_list = [0, 0, 0]\n",
    "test_list[-len(other_list)]"
   ]
  },
  {
   "cell_type": "code",
   "execution_count": null,
   "id": "8a08a92f",
   "metadata": {},
   "outputs": [],
   "source": []
  }
 ],
 "metadata": {
  "kernelspec": {
   "display_name": "Python 3 (ipykernel)",
   "language": "python",
   "name": "python3"
  },
  "language_info": {
   "codemirror_mode": {
    "name": "ipython",
    "version": 3
   },
   "file_extension": ".py",
   "mimetype": "text/x-python",
   "name": "python",
   "nbconvert_exporter": "python",
   "pygments_lexer": "ipython3",
   "version": "3.9.12"
  }
 },
 "nbformat": 4,
 "nbformat_minor": 5
}
