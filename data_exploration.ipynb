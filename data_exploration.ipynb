{
 "cells": [
  {
   "cell_type": "code",
   "execution_count": 1,
   "id": "3cb7199c",
   "metadata": {},
   "outputs": [],
   "source": [
    "import os\n",
    "from os.path import join, basename\n",
    "import glob\n",
    "import numpy as np\n",
    "from utils import LoadNpz"
   ]
  },
  {
   "cell_type": "code",
   "execution_count": 2,
   "id": "01249660",
   "metadata": {},
   "outputs": [],
   "source": [
    "datadir = \"/home/isaiah/TotalSegmentator/preprocessed/\"\n",
    "labels = [\"train\", \"val\", \"test\"]"
   ]
  },
  {
   "cell_type": "code",
   "execution_count": 4,
   "id": "c2ec5eaf",
   "metadata": {},
   "outputs": [],
   "source": [
    "stats = {}\n",
    "largest_size = 0\n",
    "for lbl in labels:\n",
    "    files = sorted(glob.glob(join(datadir, lbl, \"*.npz\")))\n",
    "    for f in files:\n",
    "        name = basename(f).split(\".\")[0]\n",
    "        ds = np.load(f)\n",
    "        im = ds[\"image\"]\n",
    "        stats[name] = list(im.shape)\n",
    "        size = np.prod(im.shape)\n",
    "        if size > largest_size:\n",
    "            largest_size = size\n",
    "            largest_im = name"
   ]
  },
  {
   "cell_type": "code",
   "execution_count": 5,
   "id": "fe9d13b6",
   "metadata": {},
   "outputs": [
    {
     "name": "stdout",
     "output_type": "stream",
     "text": [
      "largest_image: s0287, 83908315\n"
     ]
    }
   ],
   "source": [
    "print(f\"largest_image: {largest_im}, {largest_size}\")"
   ]
  },
  {
   "cell_type": "code",
   "execution_count": 7,
   "id": "d98534e1",
   "metadata": {},
   "outputs": [],
   "source": [
    "smallest_size = 100000000\n",
    "for key, val in stats.items():\n",
    "    size = np.prod(val)\n",
    "    if size < smallest_size:\n",
    "        smallest_size = size\n",
    "        smallest_im = key"
   ]
  },
  {
   "cell_type": "code",
   "execution_count": 8,
   "id": "c3173476",
   "metadata": {},
   "outputs": [
    {
     "name": "stdout",
     "output_type": "stream",
     "text": [
      "smallest_image: s0296, 384000\n"
     ]
    }
   ],
   "source": [
    "print(f\"smallest_image: {smallest_im}, {smallest_size}\")"
   ]
  },
  {
   "cell_type": "code",
   "execution_count": 9,
   "id": "01a80c6e",
   "metadata": {},
   "outputs": [
    {
     "name": "stdout",
     "output_type": "stream",
     "text": [
      "smallest_shape: [80, 80, 60]\n",
      "largest_shape: [317, 317, 835]\n"
     ]
    }
   ],
   "source": [
    "print(f\"smallest_shape: {stats[smallest_im]}\")\n",
    "print(f\"largest_shape: {stats[largest_im]}\")"
   ]
  },
  {
   "cell_type": "code",
   "execution_count": null,
   "id": "74a2b5cf",
   "metadata": {},
   "outputs": [],
   "source": []
  }
 ],
 "metadata": {
  "kernelspec": {
   "display_name": "Python 3 (ipykernel)",
   "language": "python",
   "name": "python3"
  },
  "language_info": {
   "codemirror_mode": {
    "name": "ipython",
    "version": 3
   },
   "file_extension": ".py",
   "mimetype": "text/x-python",
   "name": "python",
   "nbconvert_exporter": "python",
   "pygments_lexer": "ipython3",
   "version": "3.9.12"
  }
 },
 "nbformat": 4,
 "nbformat_minor": 5
}
