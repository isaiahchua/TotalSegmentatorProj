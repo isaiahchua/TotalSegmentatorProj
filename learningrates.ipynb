{
 "cells": [
  {
   "cell_type": "code",
   "execution_count": null,
   "id": "a15d1b12",
   "metadata": {},
   "outputs": [],
   "source": [
    "import torch\n",
    "import torch.nn as nn\n",
    "import torch.optim as optim\n",
    "import matplotlib.pyplot as plt"
   ]
  },
  {
   "cell_type": "code",
   "execution_count": null,
   "id": "e8a1e889",
   "metadata": {},
   "outputs": [],
   "source": [
    "data = torch.rand(10)\n",
    "truths = torch.randint(0, 2, (1,), dtype=torch.float32)\n",
    "model = nn.Sequential(\n",
    "        nn.Linear(10, 1),\n",
    "        nn.ReLU(),\n",
    ")\n",
    "step_up = 60\n",
    "optimizer = optim.SGD(model.parameters(), lr=3.0e-5)\n",
    "scheduler = optim.lr_scheduler.CyclicLR(\n",
    "    optimizer=optimizer,\n",
    "    base_lr=1.0e-5,\n",
    "    max_lr=0.115,\n",
    "    mode=\"exp_range\",\n",
    "    step_size_up=step_up,\n",
    "    gamma=0.998,\n",
    "    cycle_momentum=False,\n",
    ")"
   ]
  },
  {
   "cell_type": "code",
   "execution_count": null,
   "id": "1bfcbf3e",
   "metadata": {},
   "outputs": [],
   "source": [
    "print(data)\n",
    "print(truths)"
   ]
  },
  {
   "cell_type": "code",
   "execution_count": null,
   "id": "9fc17192",
   "metadata": {},
   "outputs": [],
   "source": [
    "learning_rates = []\n",
    "for _ in range(step_up):\n",
    "    scheduler.step()\n",
    "for i in range(3000):\n",
    "    lr = scheduler.get_last_lr()[0]\n",
    "    learning_rates.append(lr)\n",
    "    optimizer.zero_grad()\n",
    "    out = model(data)\n",
    "    loss = nn.functional.cross_entropy(nn.functional.softmax(out, 0), truths)\n",
    "    loss.backward()\n",
    "    optimizer.step()\n",
    "    scheduler.step()"
   ]
  },
  {
   "cell_type": "code",
   "execution_count": null,
   "id": "f2c3d6a2",
   "metadata": {},
   "outputs": [],
   "source": [
    "plt.plot(range(len(learning_rates)), learning_rates)\n",
    "plt.show()"
   ]
  },
  {
   "cell_type": "code",
   "execution_count": null,
   "id": "b25c7e60",
   "metadata": {},
   "outputs": [],
   "source": [
    "print(learning_rates[0])"
   ]
  },
  {
   "cell_type": "code",
   "execution_count": null,
   "id": "756631f4",
   "metadata": {},
   "outputs": [],
   "source": []
  }
 ],
 "metadata": {
  "kernelspec": {
   "display_name": "Python 3 (ipykernel)",
   "language": "python",
   "name": "python3"
  },
  "language_info": {
   "codemirror_mode": {
    "name": "ipython",
    "version": 3
   },
   "file_extension": ".py",
   "mimetype": "text/x-python",
   "name": "python",
   "nbconvert_exporter": "python",
   "pygments_lexer": "ipython3",
   "version": "3.9.12"
  }
 },
 "nbformat": 4,
 "nbformat_minor": 5
}
