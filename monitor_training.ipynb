{
 "cells": [
  {
   "cell_type": "code",
   "execution_count": null,
   "id": "282d0c0a",
   "metadata": {},
   "outputs": [],
   "source": [
    "import sys, os\n",
    "sys.path\n",
    "from os.path import join, abspath\n",
    "import numpy as np\n",
    "import pandas as pd\n",
    "import matplotlib.pyplot as plt\n",
    "import torch\n",
    "from torch import tensor\n",
    "import json\n",
    "import random\n",
    "import yaml\n",
    "from addict import Dict\n",
    "import ast\n",
    "from utils import ExpandStrArrayColumns, MovingAvg"
   ]
  },
  {
   "cell_type": "code",
   "execution_count": null,
   "id": "43bd4cff",
   "metadata": {},
   "outputs": [],
   "source": [
    "def Dashboard(train_report: pd.DataFrame, eval_report: pd.DataFrame, window_size: int=100):\n",
    "    loss_ma = MovingAvg(train_report.loss, window_size)\n",
    "    dice_ma = MovingAvg(train_report.dice_scores, window_size)\n",
    "    ce_ma = MovingAvg(train_report.cross_entropy_scores, window_size)\n",
    "    sel_cols = [\"learning_rate\", \"dice_scores\", \"cross_entropy_scores\"]\n",
    "    train_epoch_stats = train_report.groupby(\"epoch\").mean(numeric_only=True)[sel_cols]\n",
    "    eval_epoch_stats = eval_report.groupby(\"epoch\").mean(numeric_only=True)\n",
    "    lim = len(eval_epoch_stats.index)\n",
    "    fig, axs = plt.subplots(2, 3, figsize=(12,8))\n",
    "    fig.suptitle(\"Training Log\")\n",
    "    # plot loss\n",
    "    axs[0, 0].set_title(\"Loss\")\n",
    "    axs[0, 0].set_xlabel(\"Block\")\n",
    "    axs[0, 0].set_ylabel(\"Loss\")\n",
    "    axs[0, 0].scatter(train_report.index, train_report.loss, s=0.3, c=\"red\", label=\"value\")\n",
    "    axs[0, 0].plot(train_report.index, loss_ma, \"-b\", label=\"moving avg\")\n",
    "    axs[0, 0].legend()\n",
    "    # plot block dice\n",
    "    axs[0, 1].set_title(\"Block Dice\")\n",
    "    axs[0, 1].set_xlabel(\"Block\")\n",
    "    axs[0, 1].set_ylabel(\"Score\")\n",
    "    # axs[0, 1].set_ylim([-0.05, 1.05])\n",
    "    axs[0, 1].scatter(train_report.index, train_report.dice_scores, s=0.5, c=\"red\", label=\"dice_score\")\n",
    "    axs[0, 1].plot(train_report.index, dice_ma, \"-b\", label=\"moving avg\")\n",
    "    axs[0, 1].legend()\n",
    "    # plot block ce\n",
    "    axs[0, 2].set_title(\"Block Cross Entropy\")\n",
    "    axs[0, 2].set_xlabel(\"Block\")\n",
    "    axs[0, 2].set_ylabel(\"Score\")\n",
    "    axs[0, 2].scatter(train_report.index, train_report.cross_entropy_scores, s=0.5, c=\"blue\", label=\"ce_score\")\n",
    "    axs[0, 2].plot(train_report.index, ce_ma, \"-r\", label=\"moving avg\")\n",
    "    axs[0, 2].legend()\n",
    "    # plot learning rate\n",
    "    axs[1, 0].set_title(\"Learning Rate\")\n",
    "    axs[1, 0].set_xlabel(\"Block\")\n",
    "    axs[1, 0].set_ylabel(\"Learning Rate\")\n",
    "    axs[1, 0].plot(train_report.index, train_report.learning_rate, \"-r\", linewidth=1.)\n",
    "    # plot epoch dice\n",
    "    axs[1, 1].set_title(\"Epoch Dice\")\n",
    "    axs[1, 1].set_xlabel(\"Epoch\")\n",
    "    axs[1, 1].set_ylabel(\"Score\")\n",
    "    # axs[1, 1].set_ylim([-0.05, 1.05])\n",
    "    axs[1, 1].plot(eval_epoch_stats.index, eval_epoch_stats.dice_scores, \"or\",\n",
    "                   linewidth=1.5, label=\"eval_dice\")\n",
    "    axs[1, 1].plot(eval_epoch_stats.index, train_epoch_stats.dice_scores[:lim], \"ob\",\n",
    "                   linewidth=1.5, label=\"train_dice\")\n",
    "    axs[1, 1].legend()\n",
    "    # plot epoch dice\n",
    "    axs[1, 2].set_title(\"Epoch Cross Entropy\")\n",
    "    axs[1, 2].set_xlabel(\"Epoch\")\n",
    "    axs[1, 2].set_ylabel(\"Score\")\n",
    "    axs[1, 2].plot(eval_epoch_stats.index, eval_epoch_stats.cross_entropy_scores, \"or\",\n",
    "                   linewidth=1.5, label=\"eval_ce\")\n",
    "    axs[1, 2].plot(eval_epoch_stats.index, train_epoch_stats.cross_entropy_scores[:lim], \"ob\",\n",
    "                   linewidth=1.5, label=\"train_ce\")\n",
    "    axs[1, 2].legend()\n",
    "    plt.tight_layout()\n",
    "    plt.show() "
   ]
  },
  {
   "cell_type": "code",
   "execution_count": null,
   "id": "3c672fb6",
   "metadata": {},
   "outputs": [],
   "source": [
    "train_rep_dir = \"/home/isaiah/TotalSegmentator/results/20230330/nnunet_train_reps_01/\"\n",
    "eval_rep_dir = \"/home/isaiah/TotalSegmentator/results/20230330/nnunet_eval_reps_01/\"\n",
    "\n",
    "tdfs = []\n",
    "edfs = []\n",
    "for i in range(5):\n",
    "    tfile = join(train_rep_dir, f\"rank{i}.csv\")\n",
    "    efile = join(eval_rep_dir, f\"rank{i}.csv\")\n",
    "    tdfs.append(pd.read_csv(tfile))\n",
    "    edfs.append(pd.read_csv(efile))\n",
    "tdf = pd.concat(tdfs, axis=0)\n",
    "edf = pd.concat(edfs, axis=0)\n",
    "dfg_train = tdf.groupby(\"block\").mean().astype({\"epoch\": np.uint16})\n",
    "efg_train = ExpandStrArrayColumns(edf, \"epoch\")"
   ]
  },
  {
   "cell_type": "code",
   "execution_count": null,
   "id": "89d79569",
   "metadata": {},
   "outputs": [],
   "source": [
    "Dashboard(dfg_train, efg_train, window_size=100)"
   ]
  },
  {
   "cell_type": "code",
   "execution_count": null,
   "id": "669b7d6a",
   "metadata": {},
   "outputs": [],
   "source": []
  }
 ],
 "metadata": {
  "kernelspec": {
   "display_name": "Python 3 (ipykernel)",
   "language": "python",
   "name": "python3"
  },
  "language_info": {
   "codemirror_mode": {
    "name": "ipython",
    "version": 3
   },
   "file_extension": ".py",
   "mimetype": "text/x-python",
   "name": "python",
   "nbconvert_exporter": "python",
   "pygments_lexer": "ipython3",
   "version": "3.10.6"
  }
 },
 "nbformat": 4,
 "nbformat_minor": 5
}
