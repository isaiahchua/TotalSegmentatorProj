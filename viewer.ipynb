{
 "cells": [
  {
   "cell_type": "code",
   "execution_count": null,
   "id": "42516534",
   "metadata": {},
   "outputs": [],
   "source": [
    "import torch\n",
    "import yaml\n",
    "from addict import Dict\n",
    "from os.path import join\n",
    "from dataviewer import DataViewer"
   ]
  },
  {
   "cell_type": "code",
   "execution_count": null,
   "id": "2318e7bb",
   "metadata": {},
   "outputs": [],
   "source": [
    "cf_file = \"config/config.yaml\"\n",
    "cfgs = Dict(yaml.load(open(cf_file, \"r\"), Loader=yaml.Loader))"
   ]
  },
  {
   "cell_type": "code",
   "execution_count": null,
   "id": "dc2dbc62",
   "metadata": {},
   "outputs": [],
   "source": [
    "device = torch.device(\"cuda\")\n",
    "viewer = DataViewer(device, join(cfgs.paths.data_dest, \"train\"), cfgs.dataset_params, batch_size=1)"
   ]
  },
  {
   "cell_type": "code",
   "execution_count": null,
   "id": "a258282f",
   "metadata": {},
   "outputs": [],
   "source": [
    "%%time\n",
    "\n",
    "viewer.ViewNextDataset()"
   ]
  },
  {
   "cell_type": "code",
   "execution_count": null,
   "id": "5ed6338c",
   "metadata": {},
   "outputs": [],
   "source": []
  }
 ],
 "metadata": {
  "kernelspec": {
   "display_name": "Python 3 (ipykernel)",
   "language": "python",
   "name": "python3"
  },
  "language_info": {
   "codemirror_mode": {
    "name": "ipython",
    "version": 3
   },
   "file_extension": ".py",
   "mimetype": "text/x-python",
   "name": "python",
   "nbconvert_exporter": "python",
   "pygments_lexer": "ipython3",
   "version": "3.9.12"
  }
 },
 "nbformat": 4,
 "nbformat_minor": 5
}
