{
 "cells": [
  {
   "cell_type": "code",
   "execution_count": 1,
   "id": "ac5e3022",
   "metadata": {},
   "outputs": [],
   "source": [
    "import torch\n",
    "import yaml\n",
    "from addict import Dict\n",
    "from os.path import join\n",
    "from dataviewer import DataViewer"
   ]
  },
  {
   "cell_type": "code",
   "execution_count": 2,
   "id": "d15d5bf3",
   "metadata": {},
   "outputs": [],
   "source": [
    "cf_file = \"config/config.yaml\"\n",
    "cfgs = Dict(yaml.load(open(cf_file, \"r\"), Loader=yaml.Loader))"
   ]
  },
  {
   "cell_type": "code",
   "execution_count": 3,
   "id": "1f4acb5f",
   "metadata": {},
   "outputs": [],
   "source": [
    "device = torch.device(\"cuda\")\n",
    "viewer = DataViewer(device, join(cfgs.paths.data_dest, \"train\"), cfgs.dataset_params)"
   ]
  },
  {
   "cell_type": "code",
   "execution_count": null,
   "id": "b49c2f77",
   "metadata": {},
   "outputs": [
    {
     "name": "stdout",
     "output_type": "stream",
     "text": [
      "time taken: 77.86056637763977 s\n"
     ]
    }
   ],
   "source": [
    "viewer.ViewNextCT()"
   ]
  },
  {
   "cell_type": "code",
   "execution_count": null,
   "id": "a9aed483",
   "metadata": {},
   "outputs": [],
   "source": []
  }
 ],
 "metadata": {
  "kernelspec": {
   "display_name": "Python 3 (ipykernel)",
   "language": "python",
   "name": "python3"
  },
  "language_info": {
   "codemirror_mode": {
    "name": "ipython",
    "version": 3
   },
   "file_extension": ".py",
   "mimetype": "text/x-python",
   "name": "python",
   "nbconvert_exporter": "python",
   "pygments_lexer": "ipython3",
   "version": "3.9.12"
  }
 },
 "nbformat": 4,
 "nbformat_minor": 5
}
