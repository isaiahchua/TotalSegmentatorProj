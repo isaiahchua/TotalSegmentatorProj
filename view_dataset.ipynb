{
 "cells": [
  {
   "cell_type": "code",
   "execution_count": null,
   "id": "42516534",
   "metadata": {},
   "outputs": [],
   "source": [
    "import torch\n",
    "import yaml\n",
    "import json\n",
    "from addict import Dict\n",
    "from os.path import join\n",
    "from dataviewer import DataViewer"
   ]
  },
  {
   "cell_type": "code",
   "execution_count": null,
   "id": "2318e7bb",
   "metadata": {},
   "outputs": [],
   "source": [
    "cf_file = \"config/demo_config.yaml\"\n",
    "labels_file = \"metadata/classes.json\"\n",
    "cfgs = Dict(yaml.load(open(cf_file, \"r\"), Loader=yaml.Loader))\n",
    "with open(labels_file) as f:\n",
    "    label_dict = json.load(f)"
   ]
  },
  {
   "cell_type": "code",
   "execution_count": null,
   "id": "83b19cb9",
   "metadata": {},
   "outputs": [],
   "source": [
    "print(label_dict)"
   ]
  },
  {
   "cell_type": "code",
   "execution_count": null,
   "id": "dc2dbc62",
   "metadata": {},
   "outputs": [],
   "source": [
    "device = torch.device(\"cuda\")\n",
    "viewer = DataViewer(device, join(cfgs.paths.data_dest, \"train\"), cfgs.train_dataset_params, label_dict=label_dict, batch_size=1)"
   ]
  },
  {
   "cell_type": "code",
   "execution_count": null,
   "id": "a258282f",
   "metadata": {},
   "outputs": [],
   "source": [
    "%%time\n",
    "\n",
    "viewer.ViewNextDataset()"
   ]
  },
  {
   "cell_type": "code",
   "execution_count": null,
   "id": "69a592e1",
   "metadata": {},
   "outputs": [],
   "source": []
  }
 ],
 "metadata": {
  "kernelspec": {
   "display_name": "Python 3 (ipykernel)",
   "language": "python",
   "name": "python3"
  },
  "language_info": {
   "codemirror_mode": {
    "name": "ipython",
    "version": 3
   },
   "file_extension": ".py",
   "mimetype": "text/x-python",
   "name": "python",
   "nbconvert_exporter": "python",
   "pygments_lexer": "ipython3",
   "version": "3.9.12"
  }
 },
 "nbformat": 4,
 "nbformat_minor": 5
}
