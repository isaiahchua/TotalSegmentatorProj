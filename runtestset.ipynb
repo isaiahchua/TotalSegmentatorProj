{
 "cells": [
  {
   "cell_type": "code",
   "execution_count": null,
   "id": "e5f8d98b",
   "metadata": {},
   "outputs": [],
   "source": [
    "import os\n",
    "from os.path import join, basename\n",
    "import glob\n",
    "import numpy as np\n",
    "import torch\n",
    "import torch.nn as nn\n",
    "import torch.nn.functional as F\n",
    "import torchio as tio\n",
    "from torch.utils.data import DataLoader\n",
    "import yaml\n",
    "import json\n",
    "from addict import Dict\n",
    "from model import nnUnet\n",
    "from dataset import TotalSegmentatorData\n",
    "from metrics import DiceScore\n",
    "from utils import OneHot, RunModelOnPatches\n",
    "import matplotlib.pyplot as plt"
   ]
  },
  {
   "cell_type": "code",
   "execution_count": null,
   "id": "bfc70fab",
   "metadata": {},
   "outputs": [],
   "source": [
    "cfile = \"/home/isaiah/TotalSegmentator/results/20230330/config_01.yaml\"\n",
    "device = torch.device(\"cuda:0\")"
   ]
  },
  {
   "cell_type": "code",
   "execution_count": null,
   "id": "c175894e",
   "metadata": {},
   "outputs": [],
   "source": [
    "cfgs = Dict(yaml.load(open(cfile, \"r\"), Loader=yaml.Loader))\n",
    "with open(cfgs.paths.labels_src, \"r\") as f:\n",
    "    label_dict = Dict(json.load(f))\n",
    "testfiles = sorted(glob.glob(join(cfgs.paths.data_dest, \"test/*.npz\")))\n",
    "testset = [basename(file).split(\".\")[0] for file in testfiles]"
   ]
  },
  {
   "cell_type": "code",
   "execution_count": null,
   "id": "4e5889da",
   "metadata": {},
   "outputs": [],
   "source": [
    "print(testset)"
   ]
  },
  {
   "cell_type": "code",
   "execution_count": null,
   "id": "683a3c4d",
   "metadata": {},
   "outputs": [],
   "source": [
    "ckpt = torch.load(cfgs.paths.model_ckpts_dest, map_location=device)\n",
    "modelparams = ckpt[\"model\"]"
   ]
  },
  {
   "cell_type": "code",
   "execution_count": null,
   "id": "1bb38c73",
   "metadata": {},
   "outputs": [],
   "source": [
    "all_params = [val for val in modelparams.values()]"
   ]
  },
  {
   "cell_type": "code",
   "execution_count": null,
   "id": "b0305121",
   "metadata": {},
   "outputs": [],
   "source": [
    "print(\"max min\")\n",
    "for i in range(len(all_params)):\n",
    "    print(all_params[i].max().item(), all_params[i].min().item()) "
   ]
  },
  {
   "cell_type": "code",
   "execution_count": null,
   "id": "5bec4ecb",
   "metadata": {},
   "outputs": [],
   "source": [
    "net = nnUnet(cfgs.model_params.channels, cfgs.model_params.num_classes).to(device)\n",
    "net.load_state_dict(modelparams)"
   ]
  },
  {
   "cell_type": "code",
   "execution_count": null,
   "id": "3d7d0013",
   "metadata": {},
   "outputs": [],
   "source": [
    "data = TotalSegmentatorData(device, join(cfgs.paths.data_dest, \"test/\"), cfgs.test_dataset_params)\n",
    "testloader = DataLoader(data)"
   ]
  },
  {
   "cell_type": "code",
   "execution_count": null,
   "id": "c003f252",
   "metadata": {},
   "outputs": [],
   "source": [
    "results = Dict()\n",
    "pred_labels = []\n",
    "gt_labels = []\n",
    "dice_scores = []\n",
    "patient_ids = []\n",
    "net.eval()\n",
    "with torch.no_grad():\n",
    "    for pat, loc, im, gt in testloader:\n",
    "        patient_ids.append(pat)\n",
    "        lbl_indices = torch.unique(gt.to(torch.int64)).tolist()\n",
    "        gt_labels.append([label_dict[str(i)] for i in lbl_indices])\n",
    "        logits = net(im.to(device))\n",
    "        logits = RunModelOnPatches(net, im, 105, 128, 128, device)\n",
    "        mask =~ torch.eq(gt, 105)\n",
    "        gt[gt == 105] = 0\n",
    "        gt_oh = OneHot(gt, 105)\n",
    "        preds = logits.argmax(1)\n",
    "        dice_scores.append(DiceScore(preds, gt_oh, mask))\n",
    "        lbl_indices = torch.unique(preds).tolist()\n",
    "        pred_labels.append([label_dict[str(i)] for i in lbl_indices])"
   ]
  }
 ],
 "metadata": {
  "kernelspec": {
   "display_name": "Python 3 (ipykernel)",
   "language": "python",
   "name": "python3"
  },
  "language_info": {
   "codemirror_mode": {
    "name": "ipython",
    "version": 3
   },
   "file_extension": ".py",
   "mimetype": "text/x-python",
   "name": "python",
   "nbconvert_exporter": "python",
   "pygments_lexer": "ipython3",
   "version": "3.10.6"
  }
 },
 "nbformat": 4,
 "nbformat_minor": 5
}
